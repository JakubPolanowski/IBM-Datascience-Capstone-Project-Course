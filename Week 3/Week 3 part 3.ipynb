{
 "cells": [
  {
   "cell_type": "markdown",
   "metadata": {},
   "source": [
    "# Week 3 Project"
   ]
  },
  {
   "cell_type": "code",
   "execution_count": 127,
   "metadata": {},
   "outputs": [],
   "source": [
    "import pandas as pd\n",
    "import numpy as np\n",
    "import requests\n",
    "import folium\n",
    "import matplotlib.cm as cm\n",
    "import matplotlib.colors as colors\n",
    "\n",
    "from sklearn.cluster import KMeans"
   ]
  },
  {
   "cell_type": "markdown",
   "metadata": {},
   "source": [
    "## Importing the raw table from Wikipedia"
   ]
  },
  {
   "cell_type": "code",
   "execution_count": 2,
   "metadata": {},
   "outputs": [
    {
     "data": {
      "text/html": [
       "<div>\n",
       "<style scoped>\n",
       "    .dataframe tbody tr th:only-of-type {\n",
       "        vertical-align: middle;\n",
       "    }\n",
       "\n",
       "    .dataframe tbody tr th {\n",
       "        vertical-align: top;\n",
       "    }\n",
       "\n",
       "    .dataframe thead th {\n",
       "        text-align: right;\n",
       "    }\n",
       "</style>\n",
       "<table border=\"1\" class=\"dataframe\">\n",
       "  <thead>\n",
       "    <tr style=\"text-align: right;\">\n",
       "      <th></th>\n",
       "      <th>Postal Code</th>\n",
       "      <th>Borough</th>\n",
       "      <th>Neighborhood</th>\n",
       "    </tr>\n",
       "  </thead>\n",
       "  <tbody>\n",
       "    <tr>\n",
       "      <th>0</th>\n",
       "      <td>M1A</td>\n",
       "      <td>Not assigned</td>\n",
       "      <td>NaN</td>\n",
       "    </tr>\n",
       "    <tr>\n",
       "      <th>1</th>\n",
       "      <td>M2A</td>\n",
       "      <td>Not assigned</td>\n",
       "      <td>NaN</td>\n",
       "    </tr>\n",
       "    <tr>\n",
       "      <th>2</th>\n",
       "      <td>M3A</td>\n",
       "      <td>North York</td>\n",
       "      <td>Parkwoods</td>\n",
       "    </tr>\n",
       "    <tr>\n",
       "      <th>3</th>\n",
       "      <td>M4A</td>\n",
       "      <td>North York</td>\n",
       "      <td>Victoria Village</td>\n",
       "    </tr>\n",
       "    <tr>\n",
       "      <th>4</th>\n",
       "      <td>M5A</td>\n",
       "      <td>Downtown Toronto</td>\n",
       "      <td>Regent Park, Harbourfront</td>\n",
       "    </tr>\n",
       "  </tbody>\n",
       "</table>\n",
       "</div>"
      ],
      "text/plain": [
       "  Postal Code           Borough               Neighborhood\n",
       "0         M1A      Not assigned                        NaN\n",
       "1         M2A      Not assigned                        NaN\n",
       "2         M3A        North York                  Parkwoods\n",
       "3         M4A        North York           Victoria Village\n",
       "4         M5A  Downtown Toronto  Regent Park, Harbourfront"
      ]
     },
     "execution_count": 2,
     "metadata": {},
     "output_type": "execute_result"
    }
   ],
   "source": [
    "df = pd.read_html('https://en.wikipedia.org/wiki/List_of_postal_codes_of_Canada:_M')[0]\n",
    "df.head()"
   ]
  },
  {
   "cell_type": "markdown",
   "metadata": {},
   "source": [
    "## Cleaning up the Table According to Project Specifications"
   ]
  },
  {
   "cell_type": "markdown",
   "metadata": {},
   "source": [
    "### Removing Cells with 'Not assigned' boroughs"
   ]
  },
  {
   "cell_type": "code",
   "execution_count": 3,
   "metadata": {},
   "outputs": [
    {
     "data": {
      "text/html": [
       "<div>\n",
       "<style scoped>\n",
       "    .dataframe tbody tr th:only-of-type {\n",
       "        vertical-align: middle;\n",
       "    }\n",
       "\n",
       "    .dataframe tbody tr th {\n",
       "        vertical-align: top;\n",
       "    }\n",
       "\n",
       "    .dataframe thead th {\n",
       "        text-align: right;\n",
       "    }\n",
       "</style>\n",
       "<table border=\"1\" class=\"dataframe\">\n",
       "  <thead>\n",
       "    <tr style=\"text-align: right;\">\n",
       "      <th></th>\n",
       "      <th>Postal Code</th>\n",
       "      <th>Borough</th>\n",
       "      <th>Neighborhood</th>\n",
       "    </tr>\n",
       "  </thead>\n",
       "  <tbody>\n",
       "    <tr>\n",
       "      <th>2</th>\n",
       "      <td>M3A</td>\n",
       "      <td>North York</td>\n",
       "      <td>Parkwoods</td>\n",
       "    </tr>\n",
       "    <tr>\n",
       "      <th>3</th>\n",
       "      <td>M4A</td>\n",
       "      <td>North York</td>\n",
       "      <td>Victoria Village</td>\n",
       "    </tr>\n",
       "    <tr>\n",
       "      <th>4</th>\n",
       "      <td>M5A</td>\n",
       "      <td>Downtown Toronto</td>\n",
       "      <td>Regent Park, Harbourfront</td>\n",
       "    </tr>\n",
       "    <tr>\n",
       "      <th>5</th>\n",
       "      <td>M6A</td>\n",
       "      <td>North York</td>\n",
       "      <td>Lawrence Manor, Lawrence Heights</td>\n",
       "    </tr>\n",
       "    <tr>\n",
       "      <th>6</th>\n",
       "      <td>M7A</td>\n",
       "      <td>Downtown Toronto</td>\n",
       "      <td>Queen's Park, Ontario Provincial Government</td>\n",
       "    </tr>\n",
       "  </tbody>\n",
       "</table>\n",
       "</div>"
      ],
      "text/plain": [
       "  Postal Code           Borough                                 Neighborhood\n",
       "2         M3A        North York                                    Parkwoods\n",
       "3         M4A        North York                             Victoria Village\n",
       "4         M5A  Downtown Toronto                    Regent Park, Harbourfront\n",
       "5         M6A        North York             Lawrence Manor, Lawrence Heights\n",
       "6         M7A  Downtown Toronto  Queen's Park, Ontario Provincial Government"
      ]
     },
     "execution_count": 3,
     "metadata": {},
     "output_type": "execute_result"
    }
   ],
   "source": [
    "df = df[df['Borough'] != 'Not assigned']\n",
    "df.head()"
   ]
  },
  {
   "cell_type": "markdown",
   "metadata": {},
   "source": [
    "### Combining Neighborhoods with the same postal code"
   ]
  },
  {
   "cell_type": "code",
   "execution_count": 4,
   "metadata": {},
   "outputs": [
    {
     "data": {
      "text/html": [
       "<div>\n",
       "<style scoped>\n",
       "    .dataframe tbody tr th:only-of-type {\n",
       "        vertical-align: middle;\n",
       "    }\n",
       "\n",
       "    .dataframe tbody tr th {\n",
       "        vertical-align: top;\n",
       "    }\n",
       "\n",
       "    .dataframe thead th {\n",
       "        text-align: right;\n",
       "    }\n",
       "</style>\n",
       "<table border=\"1\" class=\"dataframe\">\n",
       "  <thead>\n",
       "    <tr style=\"text-align: right;\">\n",
       "      <th></th>\n",
       "      <th>Postal Code</th>\n",
       "      <th>Borough</th>\n",
       "      <th>Neighborhood</th>\n",
       "    </tr>\n",
       "  </thead>\n",
       "  <tbody>\n",
       "  </tbody>\n",
       "</table>\n",
       "</div>"
      ],
      "text/plain": [
       "Empty DataFrame\n",
       "Columns: [Postal Code, Borough, Neighborhood]\n",
       "Index: []"
      ]
     },
     "execution_count": 4,
     "metadata": {},
     "output_type": "execute_result"
    }
   ],
   "source": [
    "df[df['Postal Code'].duplicated()]  # no duplicates found\n",
    "# neighborhoods appear to already be combined within the wikipedia table"
   ]
  },
  {
   "cell_type": "markdown",
   "metadata": {},
   "source": [
    "### Setting Neighborhood to Borough if Neighborhood is 'Not Assigned'"
   ]
  },
  {
   "cell_type": "code",
   "execution_count": 5,
   "metadata": {},
   "outputs": [
    {
     "data": {
      "text/html": [
       "<div>\n",
       "<style scoped>\n",
       "    .dataframe tbody tr th:only-of-type {\n",
       "        vertical-align: middle;\n",
       "    }\n",
       "\n",
       "    .dataframe tbody tr th {\n",
       "        vertical-align: top;\n",
       "    }\n",
       "\n",
       "    .dataframe thead th {\n",
       "        text-align: right;\n",
       "    }\n",
       "</style>\n",
       "<table border=\"1\" class=\"dataframe\">\n",
       "  <thead>\n",
       "    <tr style=\"text-align: right;\">\n",
       "      <th></th>\n",
       "      <th>Postal Code</th>\n",
       "      <th>Borough</th>\n",
       "      <th>Neighborhood</th>\n",
       "    </tr>\n",
       "  </thead>\n",
       "  <tbody>\n",
       "  </tbody>\n",
       "</table>\n",
       "</div>"
      ],
      "text/plain": [
       "Empty DataFrame\n",
       "Columns: [Postal Code, Borough, Neighborhood]\n",
       "Index: []"
      ]
     },
     "execution_count": 5,
     "metadata": {},
     "output_type": "execute_result"
    }
   ],
   "source": [
    "df[df['Neighborhood'] == 'Not Assigned']  # no neighborhoods are set to Not Assigned"
   ]
  },
  {
   "cell_type": "code",
   "execution_count": 6,
   "metadata": {},
   "outputs": [
    {
     "data": {
      "text/plain": [
       "(103, 3)"
      ]
     },
     "execution_count": 6,
     "metadata": {},
     "output_type": "execute_result"
    }
   ],
   "source": [
    "df.shape"
   ]
  },
  {
   "cell_type": "markdown",
   "metadata": {},
   "source": [
    "## Geocoding"
   ]
  },
  {
   "cell_type": "code",
   "execution_count": 7,
   "metadata": {},
   "outputs": [],
   "source": [
    "import geocoder"
   ]
  },
  {
   "cell_type": "code",
   "execution_count": 11,
   "metadata": {},
   "outputs": [],
   "source": [
    "latitudes = []\n",
    "longitudes = []\n",
    "for postal in df['Postal Code']:\n",
    "    cords = None\n",
    "    \n",
    "    while cords is None:\n",
    "        geo = geocoder.arcgis('{}, Toronto, Ontario'.format(postal))\n",
    "        cords = geo.json\n",
    "\n",
    "    latitudes.append(cords['lat'])\n",
    "    longitudes.append(cords['lng'])"
   ]
  },
  {
   "cell_type": "code",
   "execution_count": 16,
   "metadata": {},
   "outputs": [],
   "source": [
    "df['Latitude'] = latitudes\n",
    "df['Longitude'] = longitudes"
   ]
  },
  {
   "cell_type": "code",
   "execution_count": 18,
   "metadata": {},
   "outputs": [
    {
     "data": {
      "text/html": [
       "<div>\n",
       "<style scoped>\n",
       "    .dataframe tbody tr th:only-of-type {\n",
       "        vertical-align: middle;\n",
       "    }\n",
       "\n",
       "    .dataframe tbody tr th {\n",
       "        vertical-align: top;\n",
       "    }\n",
       "\n",
       "    .dataframe thead th {\n",
       "        text-align: right;\n",
       "    }\n",
       "</style>\n",
       "<table border=\"1\" class=\"dataframe\">\n",
       "  <thead>\n",
       "    <tr style=\"text-align: right;\">\n",
       "      <th></th>\n",
       "      <th>Postal Code</th>\n",
       "      <th>Borough</th>\n",
       "      <th>Neighborhood</th>\n",
       "      <th>Latitude</th>\n",
       "      <th>Longitude</th>\n",
       "    </tr>\n",
       "  </thead>\n",
       "  <tbody>\n",
       "    <tr>\n",
       "      <th>2</th>\n",
       "      <td>M3A</td>\n",
       "      <td>North York</td>\n",
       "      <td>Parkwoods</td>\n",
       "      <td>43.752935</td>\n",
       "      <td>-79.335641</td>\n",
       "    </tr>\n",
       "    <tr>\n",
       "      <th>3</th>\n",
       "      <td>M4A</td>\n",
       "      <td>North York</td>\n",
       "      <td>Victoria Village</td>\n",
       "      <td>43.728102</td>\n",
       "      <td>-79.311890</td>\n",
       "    </tr>\n",
       "    <tr>\n",
       "      <th>4</th>\n",
       "      <td>M5A</td>\n",
       "      <td>Downtown Toronto</td>\n",
       "      <td>Regent Park, Harbourfront</td>\n",
       "      <td>43.650964</td>\n",
       "      <td>-79.353041</td>\n",
       "    </tr>\n",
       "    <tr>\n",
       "      <th>5</th>\n",
       "      <td>M6A</td>\n",
       "      <td>North York</td>\n",
       "      <td>Lawrence Manor, Lawrence Heights</td>\n",
       "      <td>43.723265</td>\n",
       "      <td>-79.451211</td>\n",
       "    </tr>\n",
       "    <tr>\n",
       "      <th>6</th>\n",
       "      <td>M7A</td>\n",
       "      <td>Downtown Toronto</td>\n",
       "      <td>Queen's Park, Ontario Provincial Government</td>\n",
       "      <td>43.661790</td>\n",
       "      <td>-79.389390</td>\n",
       "    </tr>\n",
       "  </tbody>\n",
       "</table>\n",
       "</div>"
      ],
      "text/plain": [
       "  Postal Code           Borough                                 Neighborhood  \\\n",
       "2         M3A        North York                                    Parkwoods   \n",
       "3         M4A        North York                             Victoria Village   \n",
       "4         M5A  Downtown Toronto                    Regent Park, Harbourfront   \n",
       "5         M6A        North York             Lawrence Manor, Lawrence Heights   \n",
       "6         M7A  Downtown Toronto  Queen's Park, Ontario Provincial Government   \n",
       "\n",
       "    Latitude  Longitude  \n",
       "2  43.752935 -79.335641  \n",
       "3  43.728102 -79.311890  \n",
       "4  43.650964 -79.353041  \n",
       "5  43.723265 -79.451211  \n",
       "6  43.661790 -79.389390  "
      ]
     },
     "execution_count": 18,
     "metadata": {},
     "output_type": "execute_result"
    }
   ],
   "source": [
    "df.head()"
   ]
  },
  {
   "cell_type": "markdown",
   "metadata": {},
   "source": [
    "## Clustering of Neighborhoods"
   ]
  },
  {
   "cell_type": "markdown",
   "metadata": {},
   "source": [
    "### Getting Data from foursquare"
   ]
  },
  {
   "cell_type": "markdown",
   "metadata": {},
   "source": [
    "#### Defining API request variables"
   ]
  },
  {
   "cell_type": "code",
   "execution_count": 21,
   "metadata": {},
   "outputs": [],
   "source": [
    "CLIENT_ID = 'TDA1KZJ35ARZZOFLEDJELJZBDTHUVGHHAV0FLT1TBRONLJZ3' # your Foursquare ID\n",
    "CLIENT_SECRET = '13Q5BQK3ZZS1QBWZQ4O2MX43ZBGI3M3T1STLER3SEFRLF1MC' # your Foursquare Secret\n",
    "VERSION = '20180604'"
   ]
  },
  {
   "cell_type": "markdown",
   "metadata": {},
   "source": [
    "#### Function to get nearby venues"
   ]
  },
  {
   "cell_type": "code",
   "execution_count": 25,
   "metadata": {},
   "outputs": [],
   "source": [
    "def getNearbyVenues(names, latitudes, longitudes, radius=500, limit=100):\n",
    "    venues_list=[]\n",
    "    for name, lat, lng in zip(names, latitudes, longitudes):\n",
    "        url = 'https://api.foursquare.com/v2/venues/explore?&client_id={}&client_secret={}&v={}&ll={},{}&radius={}&limit={}'.format(\n",
    "            CLIENT_ID, \n",
    "            CLIENT_SECRET, \n",
    "            VERSION, \n",
    "            lat, \n",
    "            lng, \n",
    "            radius, \n",
    "            limit)\n",
    "            \n",
    "        # make the GET request\n",
    "        results = requests.get(url).json()[\"response\"]['groups'][0]['items']\n",
    "        \n",
    "        # return relevant information for each venue\n",
    "        venues_list.append([(\n",
    "            name, \n",
    "            lat, \n",
    "            lng, \n",
    "            v['venue']['name'], \n",
    "            v['venue']['location']['lat'], \n",
    "            v['venue']['location']['lng'],  \n",
    "            v['venue']['categories'][0]['name']) for v in results])\n",
    "\n",
    "    nearby_venues = pd.DataFrame([item for venue_list in venues_list for item in venue_list])\n",
    "    nearby_venues.columns = ['Neighborhood', \n",
    "                  'Neighborhood Latitude', \n",
    "                  'Neighborhood Longitude', \n",
    "                  'Venue', \n",
    "                  'Venue Latitude', \n",
    "                  'Venue Longitude', \n",
    "                  'Venue Category']\n",
    "    \n",
    "    return(nearby_venues)"
   ]
  },
  {
   "cell_type": "code",
   "execution_count": 29,
   "metadata": {},
   "outputs": [],
   "source": [
    "venues = getNearbyVenues(df['Neighborhood'], df['Latitude'], df['Longitude'])"
   ]
  },
  {
   "cell_type": "code",
   "execution_count": 33,
   "metadata": {},
   "outputs": [
    {
     "data": {
      "text/html": [
       "<div>\n",
       "<style scoped>\n",
       "    .dataframe tbody tr th:only-of-type {\n",
       "        vertical-align: middle;\n",
       "    }\n",
       "\n",
       "    .dataframe tbody tr th {\n",
       "        vertical-align: top;\n",
       "    }\n",
       "\n",
       "    .dataframe thead th {\n",
       "        text-align: right;\n",
       "    }\n",
       "</style>\n",
       "<table border=\"1\" class=\"dataframe\">\n",
       "  <thead>\n",
       "    <tr style=\"text-align: right;\">\n",
       "      <th></th>\n",
       "      <th>Neighborhood</th>\n",
       "      <th>Neighborhood Latitude</th>\n",
       "      <th>Neighborhood Longitude</th>\n",
       "      <th>Venue</th>\n",
       "      <th>Venue Latitude</th>\n",
       "      <th>Venue Longitude</th>\n",
       "      <th>Venue Category</th>\n",
       "    </tr>\n",
       "  </thead>\n",
       "  <tbody>\n",
       "    <tr>\n",
       "      <th>0</th>\n",
       "      <td>Parkwoods</td>\n",
       "      <td>43.752935</td>\n",
       "      <td>-79.335641</td>\n",
       "      <td>Brookbanks Park</td>\n",
       "      <td>43.751976</td>\n",
       "      <td>-79.332140</td>\n",
       "      <td>Park</td>\n",
       "    </tr>\n",
       "    <tr>\n",
       "      <th>1</th>\n",
       "      <td>Parkwoods</td>\n",
       "      <td>43.752935</td>\n",
       "      <td>-79.335641</td>\n",
       "      <td>Variety Store</td>\n",
       "      <td>43.751974</td>\n",
       "      <td>-79.333114</td>\n",
       "      <td>Food &amp; Drink Shop</td>\n",
       "    </tr>\n",
       "    <tr>\n",
       "      <th>2</th>\n",
       "      <td>Victoria Village</td>\n",
       "      <td>43.728102</td>\n",
       "      <td>-79.311890</td>\n",
       "      <td>Tim Hortons</td>\n",
       "      <td>43.725517</td>\n",
       "      <td>-79.313103</td>\n",
       "      <td>Coffee Shop</td>\n",
       "    </tr>\n",
       "    <tr>\n",
       "      <th>3</th>\n",
       "      <td>Victoria Village</td>\n",
       "      <td>43.728102</td>\n",
       "      <td>-79.311890</td>\n",
       "      <td>Portugril</td>\n",
       "      <td>43.725819</td>\n",
       "      <td>-79.312785</td>\n",
       "      <td>Portuguese Restaurant</td>\n",
       "    </tr>\n",
       "    <tr>\n",
       "      <th>4</th>\n",
       "      <td>Victoria Village</td>\n",
       "      <td>43.728102</td>\n",
       "      <td>-79.311890</td>\n",
       "      <td>Eglinton Ave E &amp; Sloane Ave/Bermondsey Rd</td>\n",
       "      <td>43.726086</td>\n",
       "      <td>-79.313620</td>\n",
       "      <td>Intersection</td>\n",
       "    </tr>\n",
       "  </tbody>\n",
       "</table>\n",
       "</div>"
      ],
      "text/plain": [
       "       Neighborhood  Neighborhood Latitude  Neighborhood Longitude  \\\n",
       "0         Parkwoods              43.752935              -79.335641   \n",
       "1         Parkwoods              43.752935              -79.335641   \n",
       "2  Victoria Village              43.728102              -79.311890   \n",
       "3  Victoria Village              43.728102              -79.311890   \n",
       "4  Victoria Village              43.728102              -79.311890   \n",
       "\n",
       "                                       Venue  Venue Latitude  Venue Longitude  \\\n",
       "0                            Brookbanks Park       43.751976       -79.332140   \n",
       "1                              Variety Store       43.751974       -79.333114   \n",
       "2                                Tim Hortons       43.725517       -79.313103   \n",
       "3                                  Portugril       43.725819       -79.312785   \n",
       "4  Eglinton Ave E & Sloane Ave/Bermondsey Rd       43.726086       -79.313620   \n",
       "\n",
       "          Venue Category  \n",
       "0                   Park  \n",
       "1      Food & Drink Shop  \n",
       "2            Coffee Shop  \n",
       "3  Portuguese Restaurant  \n",
       "4           Intersection  "
      ]
     },
     "execution_count": 33,
     "metadata": {},
     "output_type": "execute_result"
    }
   ],
   "source": [
    "venues.head()"
   ]
  },
  {
   "cell_type": "code",
   "execution_count": 97,
   "metadata": {},
   "outputs": [
    {
     "data": {
      "text/plain": [
       "(2287, 7)"
      ]
     },
     "execution_count": 97,
     "metadata": {},
     "output_type": "execute_result"
    }
   ],
   "source": [
    "venues.shape"
   ]
  },
  {
   "cell_type": "markdown",
   "metadata": {},
   "source": [
    "### Preparation of Data for Clustering"
   ]
  },
  {
   "cell_type": "code",
   "execution_count": 98,
   "metadata": {},
   "outputs": [
    {
     "data": {
      "text/html": [
       "<div>\n",
       "<style scoped>\n",
       "    .dataframe tbody tr th:only-of-type {\n",
       "        vertical-align: middle;\n",
       "    }\n",
       "\n",
       "    .dataframe tbody tr th {\n",
       "        vertical-align: top;\n",
       "    }\n",
       "\n",
       "    .dataframe thead th {\n",
       "        text-align: right;\n",
       "    }\n",
       "</style>\n",
       "<table border=\"1\" class=\"dataframe\">\n",
       "  <thead>\n",
       "    <tr style=\"text-align: right;\">\n",
       "      <th></th>\n",
       "      <th>Neighborhood</th>\n",
       "      <th>Accessories Store</th>\n",
       "      <th>Afghan Restaurant</th>\n",
       "      <th>Airport</th>\n",
       "      <th>American Restaurant</th>\n",
       "      <th>Antique Shop</th>\n",
       "      <th>Art Gallery</th>\n",
       "      <th>Art Museum</th>\n",
       "      <th>Arts &amp; Crafts Store</th>\n",
       "      <th>Asian Restaurant</th>\n",
       "      <th>...</th>\n",
       "      <th>Train Station</th>\n",
       "      <th>Vegetarian / Vegan Restaurant</th>\n",
       "      <th>Video Game Store</th>\n",
       "      <th>Video Store</th>\n",
       "      <th>Vietnamese Restaurant</th>\n",
       "      <th>Wine Bar</th>\n",
       "      <th>Wine Shop</th>\n",
       "      <th>Wings Joint</th>\n",
       "      <th>Women's Store</th>\n",
       "      <th>Yoga Studio</th>\n",
       "    </tr>\n",
       "  </thead>\n",
       "  <tbody>\n",
       "    <tr>\n",
       "      <th>0</th>\n",
       "      <td>Parkwoods</td>\n",
       "      <td>0</td>\n",
       "      <td>0</td>\n",
       "      <td>0</td>\n",
       "      <td>0</td>\n",
       "      <td>0</td>\n",
       "      <td>0</td>\n",
       "      <td>0</td>\n",
       "      <td>0</td>\n",
       "      <td>0</td>\n",
       "      <td>...</td>\n",
       "      <td>0</td>\n",
       "      <td>0</td>\n",
       "      <td>0</td>\n",
       "      <td>0</td>\n",
       "      <td>0</td>\n",
       "      <td>0</td>\n",
       "      <td>0</td>\n",
       "      <td>0</td>\n",
       "      <td>0</td>\n",
       "      <td>0</td>\n",
       "    </tr>\n",
       "    <tr>\n",
       "      <th>1</th>\n",
       "      <td>Parkwoods</td>\n",
       "      <td>0</td>\n",
       "      <td>0</td>\n",
       "      <td>0</td>\n",
       "      <td>0</td>\n",
       "      <td>0</td>\n",
       "      <td>0</td>\n",
       "      <td>0</td>\n",
       "      <td>0</td>\n",
       "      <td>0</td>\n",
       "      <td>...</td>\n",
       "      <td>0</td>\n",
       "      <td>0</td>\n",
       "      <td>0</td>\n",
       "      <td>0</td>\n",
       "      <td>0</td>\n",
       "      <td>0</td>\n",
       "      <td>0</td>\n",
       "      <td>0</td>\n",
       "      <td>0</td>\n",
       "      <td>0</td>\n",
       "    </tr>\n",
       "    <tr>\n",
       "      <th>2</th>\n",
       "      <td>Victoria Village</td>\n",
       "      <td>0</td>\n",
       "      <td>0</td>\n",
       "      <td>0</td>\n",
       "      <td>0</td>\n",
       "      <td>0</td>\n",
       "      <td>0</td>\n",
       "      <td>0</td>\n",
       "      <td>0</td>\n",
       "      <td>0</td>\n",
       "      <td>...</td>\n",
       "      <td>0</td>\n",
       "      <td>0</td>\n",
       "      <td>0</td>\n",
       "      <td>0</td>\n",
       "      <td>0</td>\n",
       "      <td>0</td>\n",
       "      <td>0</td>\n",
       "      <td>0</td>\n",
       "      <td>0</td>\n",
       "      <td>0</td>\n",
       "    </tr>\n",
       "    <tr>\n",
       "      <th>3</th>\n",
       "      <td>Victoria Village</td>\n",
       "      <td>0</td>\n",
       "      <td>0</td>\n",
       "      <td>0</td>\n",
       "      <td>0</td>\n",
       "      <td>0</td>\n",
       "      <td>0</td>\n",
       "      <td>0</td>\n",
       "      <td>0</td>\n",
       "      <td>0</td>\n",
       "      <td>...</td>\n",
       "      <td>0</td>\n",
       "      <td>0</td>\n",
       "      <td>0</td>\n",
       "      <td>0</td>\n",
       "      <td>0</td>\n",
       "      <td>0</td>\n",
       "      <td>0</td>\n",
       "      <td>0</td>\n",
       "      <td>0</td>\n",
       "      <td>0</td>\n",
       "    </tr>\n",
       "    <tr>\n",
       "      <th>4</th>\n",
       "      <td>Victoria Village</td>\n",
       "      <td>0</td>\n",
       "      <td>0</td>\n",
       "      <td>0</td>\n",
       "      <td>0</td>\n",
       "      <td>0</td>\n",
       "      <td>0</td>\n",
       "      <td>0</td>\n",
       "      <td>0</td>\n",
       "      <td>0</td>\n",
       "      <td>...</td>\n",
       "      <td>0</td>\n",
       "      <td>0</td>\n",
       "      <td>0</td>\n",
       "      <td>0</td>\n",
       "      <td>0</td>\n",
       "      <td>0</td>\n",
       "      <td>0</td>\n",
       "      <td>0</td>\n",
       "      <td>0</td>\n",
       "      <td>0</td>\n",
       "    </tr>\n",
       "  </tbody>\n",
       "</table>\n",
       "<p>5 rows × 267 columns</p>\n",
       "</div>"
      ],
      "text/plain": [
       "       Neighborhood  Accessories Store  Afghan Restaurant  Airport  \\\n",
       "0         Parkwoods                  0                  0        0   \n",
       "1         Parkwoods                  0                  0        0   \n",
       "2  Victoria Village                  0                  0        0   \n",
       "3  Victoria Village                  0                  0        0   \n",
       "4  Victoria Village                  0                  0        0   \n",
       "\n",
       "   American Restaurant  Antique Shop  Art Gallery  Art Museum  \\\n",
       "0                    0             0            0           0   \n",
       "1                    0             0            0           0   \n",
       "2                    0             0            0           0   \n",
       "3                    0             0            0           0   \n",
       "4                    0             0            0           0   \n",
       "\n",
       "   Arts & Crafts Store  Asian Restaurant  ...  Train Station  \\\n",
       "0                    0                 0  ...              0   \n",
       "1                    0                 0  ...              0   \n",
       "2                    0                 0  ...              0   \n",
       "3                    0                 0  ...              0   \n",
       "4                    0                 0  ...              0   \n",
       "\n",
       "   Vegetarian / Vegan Restaurant  Video Game Store  Video Store  \\\n",
       "0                              0                 0            0   \n",
       "1                              0                 0            0   \n",
       "2                              0                 0            0   \n",
       "3                              0                 0            0   \n",
       "4                              0                 0            0   \n",
       "\n",
       "   Vietnamese Restaurant  Wine Bar  Wine Shop  Wings Joint  Women's Store  \\\n",
       "0                      0         0          0            0              0   \n",
       "1                      0         0          0            0              0   \n",
       "2                      0         0          0            0              0   \n",
       "3                      0         0          0            0              0   \n",
       "4                      0         0          0            0              0   \n",
       "\n",
       "   Yoga Studio  \n",
       "0            0  \n",
       "1            0  \n",
       "2            0  \n",
       "3            0  \n",
       "4            0  \n",
       "\n",
       "[5 rows x 267 columns]"
      ]
     },
     "execution_count": 98,
     "metadata": {},
     "output_type": "execute_result"
    }
   ],
   "source": [
    "# one hot encoding\n",
    "onehot = pd.get_dummies(venues[['Venue Category']], prefix=\"\", prefix_sep=\"\")\n",
    "onehot['Neighborhood'] = venues['Neighborhood']\n",
    "\n",
    "# move neighborhood column to start\n",
    "cols = onehot.columns\n",
    "cols = cols[cols != 'Neighborhood'].insert(0, 'Neighborhood')\n",
    "onehot = onehot[cols]\n",
    "\n",
    "onehot.head()"
   ]
  },
  {
   "cell_type": "markdown",
   "metadata": {},
   "source": [
    "#### Grouping by the neighborhood"
   ]
  },
  {
   "cell_type": "code",
   "execution_count": 99,
   "metadata": {},
   "outputs": [
    {
     "data": {
      "text/html": [
       "<div>\n",
       "<style scoped>\n",
       "    .dataframe tbody tr th:only-of-type {\n",
       "        vertical-align: middle;\n",
       "    }\n",
       "\n",
       "    .dataframe tbody tr th {\n",
       "        vertical-align: top;\n",
       "    }\n",
       "\n",
       "    .dataframe thead th {\n",
       "        text-align: right;\n",
       "    }\n",
       "</style>\n",
       "<table border=\"1\" class=\"dataframe\">\n",
       "  <thead>\n",
       "    <tr style=\"text-align: right;\">\n",
       "      <th></th>\n",
       "      <th>Neighborhood</th>\n",
       "      <th>Accessories Store</th>\n",
       "      <th>Afghan Restaurant</th>\n",
       "      <th>Airport</th>\n",
       "      <th>American Restaurant</th>\n",
       "      <th>Antique Shop</th>\n",
       "      <th>Art Gallery</th>\n",
       "      <th>Art Museum</th>\n",
       "      <th>Arts &amp; Crafts Store</th>\n",
       "      <th>Asian Restaurant</th>\n",
       "      <th>...</th>\n",
       "      <th>Train Station</th>\n",
       "      <th>Vegetarian / Vegan Restaurant</th>\n",
       "      <th>Video Game Store</th>\n",
       "      <th>Video Store</th>\n",
       "      <th>Vietnamese Restaurant</th>\n",
       "      <th>Wine Bar</th>\n",
       "      <th>Wine Shop</th>\n",
       "      <th>Wings Joint</th>\n",
       "      <th>Women's Store</th>\n",
       "      <th>Yoga Studio</th>\n",
       "    </tr>\n",
       "  </thead>\n",
       "  <tbody>\n",
       "    <tr>\n",
       "      <th>0</th>\n",
       "      <td>Agincourt</td>\n",
       "      <td>0.0</td>\n",
       "      <td>0.0</td>\n",
       "      <td>0.0</td>\n",
       "      <td>0.0</td>\n",
       "      <td>0.0</td>\n",
       "      <td>0.0</td>\n",
       "      <td>0.0</td>\n",
       "      <td>0.0</td>\n",
       "      <td>0.0</td>\n",
       "      <td>...</td>\n",
       "      <td>0.0</td>\n",
       "      <td>0.0</td>\n",
       "      <td>0.0</td>\n",
       "      <td>0.000000</td>\n",
       "      <td>0.0</td>\n",
       "      <td>0.0</td>\n",
       "      <td>0.0</td>\n",
       "      <td>0.0</td>\n",
       "      <td>0.0</td>\n",
       "      <td>0.0</td>\n",
       "    </tr>\n",
       "    <tr>\n",
       "      <th>1</th>\n",
       "      <td>Alderwood, Long Branch</td>\n",
       "      <td>0.0</td>\n",
       "      <td>0.0</td>\n",
       "      <td>0.0</td>\n",
       "      <td>0.0</td>\n",
       "      <td>0.0</td>\n",
       "      <td>0.0</td>\n",
       "      <td>0.0</td>\n",
       "      <td>0.0</td>\n",
       "      <td>0.0</td>\n",
       "      <td>...</td>\n",
       "      <td>0.0</td>\n",
       "      <td>0.0</td>\n",
       "      <td>0.0</td>\n",
       "      <td>0.000000</td>\n",
       "      <td>0.0</td>\n",
       "      <td>0.0</td>\n",
       "      <td>0.0</td>\n",
       "      <td>0.0</td>\n",
       "      <td>0.0</td>\n",
       "      <td>0.0</td>\n",
       "    </tr>\n",
       "    <tr>\n",
       "      <th>2</th>\n",
       "      <td>Bathurst Manor, Wilson Heights, Downsview North</td>\n",
       "      <td>0.0</td>\n",
       "      <td>0.0</td>\n",
       "      <td>0.0</td>\n",
       "      <td>0.0</td>\n",
       "      <td>0.0</td>\n",
       "      <td>0.0</td>\n",
       "      <td>0.0</td>\n",
       "      <td>0.0</td>\n",
       "      <td>0.0</td>\n",
       "      <td>...</td>\n",
       "      <td>0.0</td>\n",
       "      <td>0.0</td>\n",
       "      <td>0.0</td>\n",
       "      <td>0.052632</td>\n",
       "      <td>0.0</td>\n",
       "      <td>0.0</td>\n",
       "      <td>0.0</td>\n",
       "      <td>0.0</td>\n",
       "      <td>0.0</td>\n",
       "      <td>0.0</td>\n",
       "    </tr>\n",
       "    <tr>\n",
       "      <th>3</th>\n",
       "      <td>Bayview Village</td>\n",
       "      <td>0.0</td>\n",
       "      <td>0.0</td>\n",
       "      <td>0.0</td>\n",
       "      <td>0.0</td>\n",
       "      <td>0.0</td>\n",
       "      <td>0.0</td>\n",
       "      <td>0.0</td>\n",
       "      <td>0.0</td>\n",
       "      <td>0.0</td>\n",
       "      <td>...</td>\n",
       "      <td>0.0</td>\n",
       "      <td>0.0</td>\n",
       "      <td>0.0</td>\n",
       "      <td>0.000000</td>\n",
       "      <td>0.0</td>\n",
       "      <td>0.0</td>\n",
       "      <td>0.0</td>\n",
       "      <td>0.0</td>\n",
       "      <td>0.0</td>\n",
       "      <td>0.0</td>\n",
       "    </tr>\n",
       "    <tr>\n",
       "      <th>4</th>\n",
       "      <td>Bedford Park, Lawrence Manor East</td>\n",
       "      <td>0.0</td>\n",
       "      <td>0.0</td>\n",
       "      <td>0.0</td>\n",
       "      <td>0.0</td>\n",
       "      <td>0.0</td>\n",
       "      <td>0.0</td>\n",
       "      <td>0.0</td>\n",
       "      <td>0.0</td>\n",
       "      <td>0.0</td>\n",
       "      <td>...</td>\n",
       "      <td>0.0</td>\n",
       "      <td>0.0</td>\n",
       "      <td>0.0</td>\n",
       "      <td>0.000000</td>\n",
       "      <td>0.0</td>\n",
       "      <td>0.0</td>\n",
       "      <td>0.0</td>\n",
       "      <td>0.0</td>\n",
       "      <td>0.0</td>\n",
       "      <td>0.0</td>\n",
       "    </tr>\n",
       "  </tbody>\n",
       "</table>\n",
       "<p>5 rows × 267 columns</p>\n",
       "</div>"
      ],
      "text/plain": [
       "                                      Neighborhood  Accessories Store  \\\n",
       "0                                        Agincourt                0.0   \n",
       "1                           Alderwood, Long Branch                0.0   \n",
       "2  Bathurst Manor, Wilson Heights, Downsview North                0.0   \n",
       "3                                  Bayview Village                0.0   \n",
       "4                Bedford Park, Lawrence Manor East                0.0   \n",
       "\n",
       "   Afghan Restaurant  Airport  American Restaurant  Antique Shop  Art Gallery  \\\n",
       "0                0.0      0.0                  0.0           0.0          0.0   \n",
       "1                0.0      0.0                  0.0           0.0          0.0   \n",
       "2                0.0      0.0                  0.0           0.0          0.0   \n",
       "3                0.0      0.0                  0.0           0.0          0.0   \n",
       "4                0.0      0.0                  0.0           0.0          0.0   \n",
       "\n",
       "   Art Museum  Arts & Crafts Store  Asian Restaurant  ...  Train Station  \\\n",
       "0         0.0                  0.0               0.0  ...            0.0   \n",
       "1         0.0                  0.0               0.0  ...            0.0   \n",
       "2         0.0                  0.0               0.0  ...            0.0   \n",
       "3         0.0                  0.0               0.0  ...            0.0   \n",
       "4         0.0                  0.0               0.0  ...            0.0   \n",
       "\n",
       "   Vegetarian / Vegan Restaurant  Video Game Store  Video Store  \\\n",
       "0                            0.0               0.0     0.000000   \n",
       "1                            0.0               0.0     0.000000   \n",
       "2                            0.0               0.0     0.052632   \n",
       "3                            0.0               0.0     0.000000   \n",
       "4                            0.0               0.0     0.000000   \n",
       "\n",
       "   Vietnamese Restaurant  Wine Bar  Wine Shop  Wings Joint  Women's Store  \\\n",
       "0                    0.0       0.0        0.0          0.0            0.0   \n",
       "1                    0.0       0.0        0.0          0.0            0.0   \n",
       "2                    0.0       0.0        0.0          0.0            0.0   \n",
       "3                    0.0       0.0        0.0          0.0            0.0   \n",
       "4                    0.0       0.0        0.0          0.0            0.0   \n",
       "\n",
       "   Yoga Studio  \n",
       "0          0.0  \n",
       "1          0.0  \n",
       "2          0.0  \n",
       "3          0.0  \n",
       "4          0.0  \n",
       "\n",
       "[5 rows x 267 columns]"
      ]
     },
     "execution_count": 99,
     "metadata": {},
     "output_type": "execute_result"
    }
   ],
   "source": [
    "neighborhood_grouping = onehot.groupby('Neighborhood').mean().reset_index()\n",
    "neighborhood_grouping.head()"
   ]
  },
  {
   "cell_type": "code",
   "execution_count": 100,
   "metadata": {},
   "outputs": [
    {
     "data": {
      "text/plain": [
       "(98, 267)"
      ]
     },
     "execution_count": 100,
     "metadata": {},
     "output_type": "execute_result"
    }
   ],
   "source": [
    "neighborhood_grouping.shape"
   ]
  },
  {
   "cell_type": "markdown",
   "metadata": {},
   "source": [
    "### Calculating Clusters"
   ]
  },
  {
   "cell_type": "code",
   "execution_count": 101,
   "metadata": {},
   "outputs": [],
   "source": [
    "k_clusters = 6 \n",
    "\n",
    "data_for_clustering = neighborhood_grouping.drop('Neighborhood', 1)\n",
    "clusters = KMeans(n_clusters=k_clusters, random_state=11).fit(data_for_clustering)"
   ]
  },
  {
   "cell_type": "code",
   "execution_count": 102,
   "metadata": {},
   "outputs": [
    {
     "data": {
      "text/plain": [
       "array([1, 1, 1, 3, 1, 1, 1, 1, 1, 1, 0, 1, 3, 1, 1, 1, 1, 1, 1, 1, 0, 1,\n",
       "       1, 1, 1, 0, 1, 1, 1, 1, 0, 1, 1, 1, 1, 1, 1, 0, 1, 0, 0, 1, 0, 1,\n",
       "       1, 1, 1, 1, 1, 1, 3, 1, 1, 1, 0, 0, 0, 5, 1, 0, 1, 1, 0, 1, 1, 1,\n",
       "       0, 4, 1, 1, 1, 1, 1, 1, 1, 1, 1, 1, 1, 1, 1, 0, 0, 1, 1, 1, 1, 1,\n",
       "       1, 0, 2, 1, 1, 1, 1, 1, 0, 1], dtype=int32)"
      ]
     },
     "execution_count": 102,
     "metadata": {},
     "output_type": "execute_result"
    }
   ],
   "source": [
    "clusters.labels_"
   ]
  },
  {
   "cell_type": "code",
   "execution_count": 103,
   "metadata": {},
   "outputs": [],
   "source": [
    "neighborhood_grouping.insert(1, 'Cluster', clusters.labels_)"
   ]
  },
  {
   "cell_type": "code",
   "execution_count": 107,
   "metadata": {},
   "outputs": [
    {
     "data": {
      "text/html": [
       "<div>\n",
       "<style scoped>\n",
       "    .dataframe tbody tr th:only-of-type {\n",
       "        vertical-align: middle;\n",
       "    }\n",
       "\n",
       "    .dataframe tbody tr th {\n",
       "        vertical-align: top;\n",
       "    }\n",
       "\n",
       "    .dataframe thead th {\n",
       "        text-align: right;\n",
       "    }\n",
       "</style>\n",
       "<table border=\"1\" class=\"dataframe\">\n",
       "  <thead>\n",
       "    <tr style=\"text-align: right;\">\n",
       "      <th></th>\n",
       "      <th>Neighborhood</th>\n",
       "      <th>Cluster</th>\n",
       "    </tr>\n",
       "  </thead>\n",
       "  <tbody>\n",
       "    <tr>\n",
       "      <th>0</th>\n",
       "      <td>Agincourt</td>\n",
       "      <td>1</td>\n",
       "    </tr>\n",
       "    <tr>\n",
       "      <th>1</th>\n",
       "      <td>Alderwood, Long Branch</td>\n",
       "      <td>1</td>\n",
       "    </tr>\n",
       "    <tr>\n",
       "      <th>2</th>\n",
       "      <td>Bathurst Manor, Wilson Heights, Downsview North</td>\n",
       "      <td>1</td>\n",
       "    </tr>\n",
       "    <tr>\n",
       "      <th>3</th>\n",
       "      <td>Bayview Village</td>\n",
       "      <td>3</td>\n",
       "    </tr>\n",
       "    <tr>\n",
       "      <th>4</th>\n",
       "      <td>Bedford Park, Lawrence Manor East</td>\n",
       "      <td>1</td>\n",
       "    </tr>\n",
       "  </tbody>\n",
       "</table>\n",
       "</div>"
      ],
      "text/plain": [
       "                                      Neighborhood  Cluster\n",
       "0                                        Agincourt        1\n",
       "1                           Alderwood, Long Branch        1\n",
       "2  Bathurst Manor, Wilson Heights, Downsview North        1\n",
       "3                                  Bayview Village        3\n",
       "4                Bedford Park, Lawrence Manor East        1"
      ]
     },
     "execution_count": 107,
     "metadata": {},
     "output_type": "execute_result"
    }
   ],
   "source": [
    "results = neighborhood_grouping[['Neighborhood', 'Cluster']]\n",
    "results.head()"
   ]
  },
  {
   "cell_type": "code",
   "execution_count": 113,
   "metadata": {},
   "outputs": [],
   "source": [
    "results = results.merge(df, on='Neighborhood', how='left')"
   ]
  },
  {
   "cell_type": "code",
   "execution_count": 122,
   "metadata": {},
   "outputs": [
    {
     "data": {
      "text/html": [
       "<div>\n",
       "<style scoped>\n",
       "    .dataframe tbody tr th:only-of-type {\n",
       "        vertical-align: middle;\n",
       "    }\n",
       "\n",
       "    .dataframe tbody tr th {\n",
       "        vertical-align: top;\n",
       "    }\n",
       "\n",
       "    .dataframe thead th {\n",
       "        text-align: right;\n",
       "    }\n",
       "</style>\n",
       "<table border=\"1\" class=\"dataframe\">\n",
       "  <thead>\n",
       "    <tr style=\"text-align: right;\">\n",
       "      <th></th>\n",
       "      <th>Neighborhood</th>\n",
       "      <th>Cluster</th>\n",
       "      <th>Postal Code</th>\n",
       "      <th>Borough</th>\n",
       "      <th>Latitude</th>\n",
       "      <th>Longitude</th>\n",
       "    </tr>\n",
       "  </thead>\n",
       "  <tbody>\n",
       "    <tr>\n",
       "      <th>0</th>\n",
       "      <td>Agincourt</td>\n",
       "      <td>1</td>\n",
       "      <td>M1S</td>\n",
       "      <td>Scarborough</td>\n",
       "      <td>43.793930</td>\n",
       "      <td>-79.265694</td>\n",
       "    </tr>\n",
       "    <tr>\n",
       "      <th>1</th>\n",
       "      <td>Alderwood, Long Branch</td>\n",
       "      <td>1</td>\n",
       "      <td>M8W</td>\n",
       "      <td>Etobicoke</td>\n",
       "      <td>43.600895</td>\n",
       "      <td>-79.540387</td>\n",
       "    </tr>\n",
       "    <tr>\n",
       "      <th>2</th>\n",
       "      <td>Bathurst Manor, Wilson Heights, Downsview North</td>\n",
       "      <td>1</td>\n",
       "      <td>M3H</td>\n",
       "      <td>North York</td>\n",
       "      <td>43.757394</td>\n",
       "      <td>-79.442394</td>\n",
       "    </tr>\n",
       "    <tr>\n",
       "      <th>3</th>\n",
       "      <td>Bayview Village</td>\n",
       "      <td>3</td>\n",
       "      <td>M2K</td>\n",
       "      <td>North York</td>\n",
       "      <td>43.780607</td>\n",
       "      <td>-79.376921</td>\n",
       "    </tr>\n",
       "    <tr>\n",
       "      <th>4</th>\n",
       "      <td>Bedford Park, Lawrence Manor East</td>\n",
       "      <td>1</td>\n",
       "      <td>M5M</td>\n",
       "      <td>North York</td>\n",
       "      <td>43.735447</td>\n",
       "      <td>-79.417944</td>\n",
       "    </tr>\n",
       "  </tbody>\n",
       "</table>\n",
       "</div>"
      ],
      "text/plain": [
       "                                      Neighborhood  Cluster Postal Code  \\\n",
       "0                                        Agincourt        1         M1S   \n",
       "1                           Alderwood, Long Branch        1         M8W   \n",
       "2  Bathurst Manor, Wilson Heights, Downsview North        1         M3H   \n",
       "3                                  Bayview Village        3         M2K   \n",
       "4                Bedford Park, Lawrence Manor East        1         M5M   \n",
       "\n",
       "       Borough   Latitude  Longitude  \n",
       "0  Scarborough  43.793930 -79.265694  \n",
       "1    Etobicoke  43.600895 -79.540387  \n",
       "2   North York  43.757394 -79.442394  \n",
       "3   North York  43.780607 -79.376921  \n",
       "4   North York  43.735447 -79.417944  "
      ]
     },
     "execution_count": 122,
     "metadata": {},
     "output_type": "execute_result"
    }
   ],
   "source": [
    "results.head()"
   ]
  },
  {
   "cell_type": "markdown",
   "metadata": {},
   "source": [
    "### The Map"
   ]
  },
  {
   "cell_type": "code",
   "execution_count": 124,
   "metadata": {},
   "outputs": [],
   "source": [
    "geo = geocoder.arcgis('Toronto, Ontario')\n",
    "\n",
    "latitude = geo.json['lat']\n",
    "longitude = geo.json['lng']"
   ]
  },
  {
   "cell_type": "code",
   "execution_count": 129,
   "metadata": {},
   "outputs": [
    {
     "data": {
      "text/html": [
       "<div style=\"width:100%;\"><div style=\"position:relative;width:100%;height:0;padding-bottom:60%;\"><span style=\"color:#565656\">Make this Notebook Trusted to load map: File -> Trust Notebook</span><iframe src=\"about:blank\" style=\"position:absolute;width:100%;height:100%;left:0;top:0;border:none !important;\" data-html=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 onload=\"this.contentDocument.open();this.contentDocument.write(atob(this.getAttribute('data-html')));this.contentDocument.close();\" allowfullscreen webkitallowfullscreen mozallowfullscreen></iframe></div></div>"
      ],
      "text/plain": [
       "<folium.folium.Map at 0x7f7f9fdba0f0>"
      ]
     },
     "execution_count": 129,
     "metadata": {},
     "output_type": "execute_result"
    }
   ],
   "source": [
    "# initalize the map\n",
    "map_clusters = folium.Map(location=[latitude, longitude], zoom_start=10)\n",
    "\n",
    "# generate colorscheme\n",
    "x = np.arange(k_clusters)\n",
    "ys = [i + x + (i*x)**2 for i in range(k_clusters)]\n",
    "colors_array = cm.rainbow(np.linspace(0, 1, len(ys)))\n",
    "rainbow = [colors.rgb2hex(i) for i in colors_array]\n",
    "\n",
    "# add markers to the map\n",
    "markers_colors = []\n",
    "for lat, lon, poi, cluster in zip(\n",
    "    results['Latitude'],\n",
    "    results['Longitude'],\n",
    "    results['Neighborhood'],\n",
    "    results['Cluster']):\n",
    "    \n",
    "    label = folium.Popup(str(poi) + ' Cluster ' + str(cluster), parse_html=True)\n",
    "    folium.CircleMarker(\n",
    "        [lat, lon],\n",
    "        radius=5,\n",
    "        popup=label,\n",
    "        color=rainbow[cluster-1],\n",
    "        fill=True,\n",
    "        fill_color=rainbow[cluster-1],\n",
    "        fill_opacity=0.7).add_to(map_clusters)\n",
    "       \n",
    "map_clusters"
   ]
  },
  {
   "cell_type": "code",
   "execution_count": null,
   "metadata": {},
   "outputs": [],
   "source": []
  }
 ],
 "metadata": {
  "kernelspec": {
   "display_name": "Python",
   "language": "python",
   "name": "conda-env-python-py"
  },
  "language_info": {
   "codemirror_mode": {
    "name": "ipython",
    "version": 3
   },
   "file_extension": ".py",
   "mimetype": "text/x-python",
   "name": "python",
   "nbconvert_exporter": "python",
   "pygments_lexer": "ipython3",
   "version": "3.6.10"
  }
 },
 "nbformat": 4,
 "nbformat_minor": 4
}
